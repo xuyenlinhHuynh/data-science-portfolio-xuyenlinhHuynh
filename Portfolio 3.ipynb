{
 "cells": [
  {
   "cell_type": "markdown",
   "metadata": {},
   "source": [
    "# Mobile Customer Churn\n",
    "\n",
    "In this Portfolio task you will work with some (fake but realistic) data on Mobile Customer Churn.  Churn is where\n",
    "a customer leaves the mobile provider.   The goal is to build a simple predictive model to predict churn from available features. \n",
    "\n",
    "The data was generated (by Hume Winzar at Macquarie) based on a real dataset provided by Optus.  The data is simulated but the column headings are the same. (Note that I'm not sure if all of the real relationships in this data are preserved so you need to be cautious in interpreting the results of your analysis here).  \n",
    "\n",
    "The data is provided in file `MobileCustomerChurn.csv` and column headings are defined in a file `MobileChurnDataDictionary.csv` (store these in the `files` folder in your project).\n",
    "\n",
    "Your high level goal in this notebook is to try to build and evaluate a __predictive model for churn__ - predict the value of the CHURN_IND field in the data from some of the other fields.  Note that the three `RECON` fields should not be used as they indicate whether the customer reconnected after having churned. \n",
    "\n",
    "__Note:__ you are not being evaluated on the _accuracy_ of the model but on the _process_ that you use to generate it.  You can use a simple model such as Logistic Regression for this task or try one of the more advanced methods covered in recent weeks.  Explore the data, build a model using a selection of features and then do some work on finding out which features provide the most accurate results.  "
   ]
  },
  {
   "cell_type": "code",
   "execution_count": 1,
   "metadata": {},
   "outputs": [],
   "source": [
    "import pandas as pd\n",
    "import numpy as np\n",
    "import matplotlib.pyplot as plt\n",
    "import seaborn as sns\n",
    "%matplotlib inline\n",
    "\n",
    "from sklearn.model_selection import train_test_split\n",
    "from sklearn.linear_model import LogisticRegression\n",
    "from sklearn.metrics import confusion_matrix, accuracy_score\n",
    "from sklearn.feature_selection import RFE\n",
    "from sklearn.metrics import plot_confusion_matrix"
   ]
  },
  {
   "cell_type": "code",
   "execution_count": 2,
   "metadata": {
    "scrolled": true
   },
   "outputs": [
    {
     "data": {
      "text/html": [
       "<div>\n",
       "<style scoped>\n",
       "    .dataframe tbody tr th:only-of-type {\n",
       "        vertical-align: middle;\n",
       "    }\n",
       "\n",
       "    .dataframe tbody tr th {\n",
       "        vertical-align: top;\n",
       "    }\n",
       "\n",
       "    .dataframe thead th {\n",
       "        text-align: right;\n",
       "    }\n",
       "</style>\n",
       "<table border=\"1\" class=\"dataframe\">\n",
       "  <thead>\n",
       "    <tr style=\"text-align: right;\">\n",
       "      <th></th>\n",
       "      <th>CUST_ID</th>\n",
       "      <th>ACCOUNT_TENURE</th>\n",
       "      <th>ACCT_CNT_SERVICES</th>\n",
       "      <th>AGE</th>\n",
       "      <th>CFU</th>\n",
       "      <th>SERVICE_TENURE</th>\n",
       "      <th>PLAN_ACCESS_FEE</th>\n",
       "      <th>BYO_PLAN_STATUS</th>\n",
       "      <th>PLAN_TENURE</th>\n",
       "      <th>MONTHS_OF_CONTRACT_REMAINING</th>\n",
       "      <th>...</th>\n",
       "      <th>CONTRACT_STATUS</th>\n",
       "      <th>PREV_CONTRACT_DURATION</th>\n",
       "      <th>HANDSET_USED_BRAND</th>\n",
       "      <th>CHURN_IND</th>\n",
       "      <th>MONTHLY_SPEND</th>\n",
       "      <th>COUNTRY_METRO_REGION</th>\n",
       "      <th>STATE</th>\n",
       "      <th>RECON_SMS_NEXT_MTH</th>\n",
       "      <th>RECON_TELE_NEXT_MTH</th>\n",
       "      <th>RECON_EMAIL_NEXT_MTH</th>\n",
       "    </tr>\n",
       "    <tr>\n",
       "      <th>INDEX</th>\n",
       "      <th></th>\n",
       "      <th></th>\n",
       "      <th></th>\n",
       "      <th></th>\n",
       "      <th></th>\n",
       "      <th></th>\n",
       "      <th></th>\n",
       "      <th></th>\n",
       "      <th></th>\n",
       "      <th></th>\n",
       "      <th></th>\n",
       "      <th></th>\n",
       "      <th></th>\n",
       "      <th></th>\n",
       "      <th></th>\n",
       "      <th></th>\n",
       "      <th></th>\n",
       "      <th></th>\n",
       "      <th></th>\n",
       "      <th></th>\n",
       "      <th></th>\n",
       "    </tr>\n",
       "  </thead>\n",
       "  <tbody>\n",
       "    <tr>\n",
       "      <th>1</th>\n",
       "      <td>1</td>\n",
       "      <td>46</td>\n",
       "      <td>1</td>\n",
       "      <td>30.0</td>\n",
       "      <td>CONSUMER</td>\n",
       "      <td>46</td>\n",
       "      <td>54.54</td>\n",
       "      <td>NON BYO</td>\n",
       "      <td>15</td>\n",
       "      <td>0</td>\n",
       "      <td>...</td>\n",
       "      <td>OFF-CONTRACT</td>\n",
       "      <td>24</td>\n",
       "      <td>SAMSUNG</td>\n",
       "      <td>1</td>\n",
       "      <td>61.40</td>\n",
       "      <td>COUNTRY</td>\n",
       "      <td>WA</td>\n",
       "      <td>NaN</td>\n",
       "      <td>NaN</td>\n",
       "      <td>NaN</td>\n",
       "    </tr>\n",
       "    <tr>\n",
       "      <th>2</th>\n",
       "      <td>2</td>\n",
       "      <td>60</td>\n",
       "      <td>3</td>\n",
       "      <td>55.0</td>\n",
       "      <td>CONSUMER</td>\n",
       "      <td>59</td>\n",
       "      <td>54.54</td>\n",
       "      <td>NON BYO</td>\n",
       "      <td>5</td>\n",
       "      <td>0</td>\n",
       "      <td>...</td>\n",
       "      <td>OFF-CONTRACT</td>\n",
       "      <td>24</td>\n",
       "      <td>APPLE</td>\n",
       "      <td>1</td>\n",
       "      <td>54.54</td>\n",
       "      <td>METRO</td>\n",
       "      <td>NSW</td>\n",
       "      <td>NaN</td>\n",
       "      <td>NaN</td>\n",
       "      <td>NaN</td>\n",
       "    </tr>\n",
       "    <tr>\n",
       "      <th>3</th>\n",
       "      <td>5</td>\n",
       "      <td>65</td>\n",
       "      <td>1</td>\n",
       "      <td>29.0</td>\n",
       "      <td>CONSUMER</td>\n",
       "      <td>65</td>\n",
       "      <td>40.90</td>\n",
       "      <td>BYO</td>\n",
       "      <td>15</td>\n",
       "      <td>0</td>\n",
       "      <td>...</td>\n",
       "      <td>OFF-CONTRACT</td>\n",
       "      <td>12</td>\n",
       "      <td>APPLE</td>\n",
       "      <td>1</td>\n",
       "      <td>2.50</td>\n",
       "      <td>COUNTRY</td>\n",
       "      <td>WA</td>\n",
       "      <td>NaN</td>\n",
       "      <td>NaN</td>\n",
       "      <td>NaN</td>\n",
       "    </tr>\n",
       "    <tr>\n",
       "      <th>4</th>\n",
       "      <td>6</td>\n",
       "      <td>31</td>\n",
       "      <td>1</td>\n",
       "      <td>51.0</td>\n",
       "      <td>CONSUMER</td>\n",
       "      <td>31</td>\n",
       "      <td>31.81</td>\n",
       "      <td>NON BYO</td>\n",
       "      <td>31</td>\n",
       "      <td>0</td>\n",
       "      <td>...</td>\n",
       "      <td>OFF-CONTRACT</td>\n",
       "      <td>24</td>\n",
       "      <td>APPLE</td>\n",
       "      <td>1</td>\n",
       "      <td>6.48</td>\n",
       "      <td>COUNTRY</td>\n",
       "      <td>VIC</td>\n",
       "      <td>NaN</td>\n",
       "      <td>NaN</td>\n",
       "      <td>NaN</td>\n",
       "    </tr>\n",
       "    <tr>\n",
       "      <th>5</th>\n",
       "      <td>8</td>\n",
       "      <td>95</td>\n",
       "      <td>1</td>\n",
       "      <td>31.0</td>\n",
       "      <td>CONSUMER</td>\n",
       "      <td>95</td>\n",
       "      <td>54.54</td>\n",
       "      <td>NON BYO</td>\n",
       "      <td>0</td>\n",
       "      <td>0</td>\n",
       "      <td>...</td>\n",
       "      <td>OFF-CONTRACT</td>\n",
       "      <td>24</td>\n",
       "      <td>APPLE</td>\n",
       "      <td>1</td>\n",
       "      <td>100.22</td>\n",
       "      <td>METRO</td>\n",
       "      <td>NSW</td>\n",
       "      <td>NaN</td>\n",
       "      <td>NaN</td>\n",
       "      <td>NaN</td>\n",
       "    </tr>\n",
       "  </tbody>\n",
       "</table>\n",
       "<p>5 rows × 21 columns</p>\n",
       "</div>"
      ],
      "text/plain": [
       "       CUST_ID  ACCOUNT_TENURE  ACCT_CNT_SERVICES   AGE       CFU  \\\n",
       "INDEX                                                               \n",
       "1            1              46                  1  30.0  CONSUMER   \n",
       "2            2              60                  3  55.0  CONSUMER   \n",
       "3            5              65                  1  29.0  CONSUMER   \n",
       "4            6              31                  1  51.0  CONSUMER   \n",
       "5            8              95                  1  31.0  CONSUMER   \n",
       "\n",
       "       SERVICE_TENURE  PLAN_ACCESS_FEE BYO_PLAN_STATUS  PLAN_TENURE  \\\n",
       "INDEX                                                                 \n",
       "1                  46            54.54         NON BYO           15   \n",
       "2                  59            54.54         NON BYO            5   \n",
       "3                  65            40.90             BYO           15   \n",
       "4                  31            31.81         NON BYO           31   \n",
       "5                  95            54.54         NON BYO            0   \n",
       "\n",
       "       MONTHS_OF_CONTRACT_REMAINING  ...  CONTRACT_STATUS  \\\n",
       "INDEX                                ...                    \n",
       "1                                 0  ...     OFF-CONTRACT   \n",
       "2                                 0  ...     OFF-CONTRACT   \n",
       "3                                 0  ...     OFF-CONTRACT   \n",
       "4                                 0  ...     OFF-CONTRACT   \n",
       "5                                 0  ...     OFF-CONTRACT   \n",
       "\n",
       "      PREV_CONTRACT_DURATION  HANDSET_USED_BRAND CHURN_IND  MONTHLY_SPEND  \\\n",
       "INDEX                                                                       \n",
       "1                         24             SAMSUNG         1          61.40   \n",
       "2                         24               APPLE         1          54.54   \n",
       "3                         12               APPLE         1           2.50   \n",
       "4                         24               APPLE         1           6.48   \n",
       "5                         24               APPLE         1         100.22   \n",
       "\n",
       "       COUNTRY_METRO_REGION STATE RECON_SMS_NEXT_MTH  RECON_TELE_NEXT_MTH  \\\n",
       "INDEX                                                                       \n",
       "1                   COUNTRY    WA                NaN                  NaN   \n",
       "2                     METRO   NSW                NaN                  NaN   \n",
       "3                   COUNTRY    WA                NaN                  NaN   \n",
       "4                   COUNTRY   VIC                NaN                  NaN   \n",
       "5                     METRO   NSW                NaN                  NaN   \n",
       "\n",
       "       RECON_EMAIL_NEXT_MTH  \n",
       "INDEX                        \n",
       "1                       NaN  \n",
       "2                       NaN  \n",
       "3                       NaN  \n",
       "4                       NaN  \n",
       "5                       NaN  \n",
       "\n",
       "[5 rows x 21 columns]"
      ]
     },
     "execution_count": 2,
     "metadata": {},
     "output_type": "execute_result"
    }
   ],
   "source": [
    "churn = pd.read_csv(\"files/MobileCustomerChurn.csv\", na_values=[\"NA\", \"#VALUE!\"], index_col='INDEX')\n",
    "churn.head()"
   ]
  },
  {
   "cell_type": "markdown",
   "metadata": {},
   "source": [
    "## Data Cleaning an Exploration:"
   ]
  },
  {
   "cell_type": "code",
   "execution_count": 3,
   "metadata": {
    "scrolled": true
   },
   "outputs": [
    {
     "data": {
      "text/plain": [
       "(46206, 21)"
      ]
     },
     "execution_count": 3,
     "metadata": {},
     "output_type": "execute_result"
    }
   ],
   "source": [
    "# the number of row and column in the dataset\n",
    "churn.shape"
   ]
  },
  {
   "cell_type": "markdown",
   "metadata": {},
   "source": [
    "We check if the dataset has any missing values to deal with."
   ]
  },
  {
   "cell_type": "code",
   "execution_count": 4,
   "metadata": {},
   "outputs": [
    {
     "data": {
      "text/plain": [
       "CUST_ID                             0\n",
       "ACCOUNT_TENURE                      0\n",
       "ACCT_CNT_SERVICES                   0\n",
       "AGE                                76\n",
       "CFU                                 0\n",
       "SERVICE_TENURE                      0\n",
       "PLAN_ACCESS_FEE                     0\n",
       "BYO_PLAN_STATUS                     0\n",
       "PLAN_TENURE                         0\n",
       "MONTHS_OF_CONTRACT_REMAINING        0\n",
       "LAST_FX_CONTRACT_DURATION           0\n",
       "CONTRACT_STATUS                     0\n",
       "PREV_CONTRACT_DURATION              0\n",
       "HANDSET_USED_BRAND                  0\n",
       "CHURN_IND                           0\n",
       "MONTHLY_SPEND                       0\n",
       "COUNTRY_METRO_REGION                1\n",
       "STATE                               1\n",
       "RECON_SMS_NEXT_MTH              17790\n",
       "RECON_TELE_NEXT_MTH             17790\n",
       "RECON_EMAIL_NEXT_MTH            17790\n",
       "dtype: int64"
      ]
     },
     "execution_count": 4,
     "metadata": {},
     "output_type": "execute_result"
    }
   ],
   "source": [
    "churn.isna().sum()"
   ]
  },
  {
   "cell_type": "markdown",
   "metadata": {},
   "source": [
    "**Comment:** There are 17790 values missing in the three `RECON` columns, which might be considered as large number of missing values. However, since the three `RECON` fields will not be used in building the model even if they are numerical fields, we will drop these fields instead of dropping the rows of data. If we drops the NaN rows, our dataset will be affected significantly as the rows of missing values in the three `RECON` fields are approximately one-third of the total rows (46206 rows) of the dataset. Also, we cannot decide whether a customer will recontract next month. Thus, we will not fill in a value for these fields. Similarly, we will drops the rows of missing values in `AGE`, `COUNTRY_METRO_REGION`, and `STATE`, as we cannot fill the values by guessing where the customers from (Region or the City, and State) and their ages. Compared to the `RECON` fields, the missing values in `AGE`, `COUNTRY_METRO_REGION`, and `STATE` sumup to 78 rows, which could be considered as a small number of data rows in the large dataset (78/46206 rows). Therefore, removing these rows will not affect significantly on the dataset."
   ]
  },
  {
   "cell_type": "code",
   "execution_count": 5,
   "metadata": {},
   "outputs": [],
   "source": [
    "#drop three 'RECON' fields\n",
    "cleaned_churn = churn.drop([\"RECON_SMS_NEXT_MTH\", \"RECON_TELE_NEXT_MTH\", \n",
    "                            \"RECON_EMAIL_NEXT_MTH\"], axis= 1)\n",
    "\n",
    "# drop other missing values data rows\n",
    "cleaned_churn.dropna(inplace= True)"
   ]
  },
  {
   "cell_type": "code",
   "execution_count": 6,
   "metadata": {},
   "outputs": [
    {
     "data": {
      "text/html": [
       "<div>\n",
       "<style scoped>\n",
       "    .dataframe tbody tr th:only-of-type {\n",
       "        vertical-align: middle;\n",
       "    }\n",
       "\n",
       "    .dataframe tbody tr th {\n",
       "        vertical-align: top;\n",
       "    }\n",
       "\n",
       "    .dataframe thead th {\n",
       "        text-align: right;\n",
       "    }\n",
       "</style>\n",
       "<table border=\"1\" class=\"dataframe\">\n",
       "  <thead>\n",
       "    <tr style=\"text-align: right;\">\n",
       "      <th></th>\n",
       "      <th>CUST_ID</th>\n",
       "      <th>ACCOUNT_TENURE</th>\n",
       "      <th>ACCT_CNT_SERVICES</th>\n",
       "      <th>AGE</th>\n",
       "      <th>SERVICE_TENURE</th>\n",
       "      <th>PLAN_ACCESS_FEE</th>\n",
       "      <th>PLAN_TENURE</th>\n",
       "      <th>MONTHS_OF_CONTRACT_REMAINING</th>\n",
       "      <th>LAST_FX_CONTRACT_DURATION</th>\n",
       "      <th>PREV_CONTRACT_DURATION</th>\n",
       "      <th>CHURN_IND</th>\n",
       "      <th>MONTHLY_SPEND</th>\n",
       "    </tr>\n",
       "  </thead>\n",
       "  <tbody>\n",
       "    <tr>\n",
       "      <th>count</th>\n",
       "      <td>46129.000000</td>\n",
       "      <td>46129.000000</td>\n",
       "      <td>46129.000000</td>\n",
       "      <td>46129.000000</td>\n",
       "      <td>46129.000000</td>\n",
       "      <td>46129.000000</td>\n",
       "      <td>46129.000000</td>\n",
       "      <td>46129.000000</td>\n",
       "      <td>46129.000000</td>\n",
       "      <td>46129.000000</td>\n",
       "      <td>46129.000000</td>\n",
       "      <td>46129.000000</td>\n",
       "    </tr>\n",
       "    <tr>\n",
       "      <th>mean</th>\n",
       "      <td>42338.001344</td>\n",
       "      <td>45.887229</td>\n",
       "      <td>1.554402</td>\n",
       "      <td>41.411607</td>\n",
       "      <td>50.364413</td>\n",
       "      <td>51.360367</td>\n",
       "      <td>10.851157</td>\n",
       "      <td>8.234733</td>\n",
       "      <td>20.350755</td>\n",
       "      <td>15.253051</td>\n",
       "      <td>0.385072</td>\n",
       "      <td>75.167410</td>\n",
       "    </tr>\n",
       "    <tr>\n",
       "      <th>std</th>\n",
       "      <td>22102.853209</td>\n",
       "      <td>33.073285</td>\n",
       "      <td>0.834352</td>\n",
       "      <td>15.263812</td>\n",
       "      <td>51.942875</td>\n",
       "      <td>20.854578</td>\n",
       "      <td>9.772148</td>\n",
       "      <td>8.339838</td>\n",
       "      <td>8.033236</td>\n",
       "      <td>10.981640</td>\n",
       "      <td>0.486618</td>\n",
       "      <td>73.392728</td>\n",
       "    </tr>\n",
       "    <tr>\n",
       "      <th>min</th>\n",
       "      <td>1.000000</td>\n",
       "      <td>0.000000</td>\n",
       "      <td>1.000000</td>\n",
       "      <td>-4.000000</td>\n",
       "      <td>0.000000</td>\n",
       "      <td>8.180000</td>\n",
       "      <td>0.000000</td>\n",
       "      <td>0.000000</td>\n",
       "      <td>0.000000</td>\n",
       "      <td>0.000000</td>\n",
       "      <td>0.000000</td>\n",
       "      <td>1.020000</td>\n",
       "    </tr>\n",
       "    <tr>\n",
       "      <th>25%</th>\n",
       "      <td>24951.000000</td>\n",
       "      <td>14.000000</td>\n",
       "      <td>1.000000</td>\n",
       "      <td>28.000000</td>\n",
       "      <td>11.000000</td>\n",
       "      <td>36.360000</td>\n",
       "      <td>3.000000</td>\n",
       "      <td>0.000000</td>\n",
       "      <td>24.000000</td>\n",
       "      <td>0.000000</td>\n",
       "      <td>0.000000</td>\n",
       "      <td>36.360000</td>\n",
       "    </tr>\n",
       "    <tr>\n",
       "      <th>50%</th>\n",
       "      <td>43264.000000</td>\n",
       "      <td>44.000000</td>\n",
       "      <td>1.000000</td>\n",
       "      <td>40.000000</td>\n",
       "      <td>35.000000</td>\n",
       "      <td>54.540000</td>\n",
       "      <td>8.000000</td>\n",
       "      <td>7.000000</td>\n",
       "      <td>24.000000</td>\n",
       "      <td>24.000000</td>\n",
       "      <td>0.000000</td>\n",
       "      <td>54.540000</td>\n",
       "    </tr>\n",
       "    <tr>\n",
       "      <th>75%</th>\n",
       "      <td>61141.000000</td>\n",
       "      <td>77.000000</td>\n",
       "      <td>2.000000</td>\n",
       "      <td>52.000000</td>\n",
       "      <td>69.000000</td>\n",
       "      <td>72.720000</td>\n",
       "      <td>16.000000</td>\n",
       "      <td>16.000000</td>\n",
       "      <td>24.000000</td>\n",
       "      <td>24.000000</td>\n",
       "      <td>1.000000</td>\n",
       "      <td>84.530000</td>\n",
       "    </tr>\n",
       "    <tr>\n",
       "      <th>max</th>\n",
       "      <td>79500.000000</td>\n",
       "      <td>120.000000</td>\n",
       "      <td>4.000000</td>\n",
       "      <td>116.000000</td>\n",
       "      <td>259.000000</td>\n",
       "      <td>234.540000</td>\n",
       "      <td>147.000000</td>\n",
       "      <td>24.000000</td>\n",
       "      <td>36.000000</td>\n",
       "      <td>36.000000</td>\n",
       "      <td>1.000000</td>\n",
       "      <td>1965.890000</td>\n",
       "    </tr>\n",
       "  </tbody>\n",
       "</table>\n",
       "</div>"
      ],
      "text/plain": [
       "            CUST_ID  ACCOUNT_TENURE  ACCT_CNT_SERVICES           AGE  \\\n",
       "count  46129.000000    46129.000000       46129.000000  46129.000000   \n",
       "mean   42338.001344       45.887229           1.554402     41.411607   \n",
       "std    22102.853209       33.073285           0.834352     15.263812   \n",
       "min        1.000000        0.000000           1.000000     -4.000000   \n",
       "25%    24951.000000       14.000000           1.000000     28.000000   \n",
       "50%    43264.000000       44.000000           1.000000     40.000000   \n",
       "75%    61141.000000       77.000000           2.000000     52.000000   \n",
       "max    79500.000000      120.000000           4.000000    116.000000   \n",
       "\n",
       "       SERVICE_TENURE  PLAN_ACCESS_FEE   PLAN_TENURE  \\\n",
       "count    46129.000000     46129.000000  46129.000000   \n",
       "mean        50.364413        51.360367     10.851157   \n",
       "std         51.942875        20.854578      9.772148   \n",
       "min          0.000000         8.180000      0.000000   \n",
       "25%         11.000000        36.360000      3.000000   \n",
       "50%         35.000000        54.540000      8.000000   \n",
       "75%         69.000000        72.720000     16.000000   \n",
       "max        259.000000       234.540000    147.000000   \n",
       "\n",
       "       MONTHS_OF_CONTRACT_REMAINING  LAST_FX_CONTRACT_DURATION  \\\n",
       "count                  46129.000000               46129.000000   \n",
       "mean                       8.234733                  20.350755   \n",
       "std                        8.339838                   8.033236   \n",
       "min                        0.000000                   0.000000   \n",
       "25%                        0.000000                  24.000000   \n",
       "50%                        7.000000                  24.000000   \n",
       "75%                       16.000000                  24.000000   \n",
       "max                       24.000000                  36.000000   \n",
       "\n",
       "       PREV_CONTRACT_DURATION     CHURN_IND  MONTHLY_SPEND  \n",
       "count            46129.000000  46129.000000   46129.000000  \n",
       "mean                15.253051      0.385072      75.167410  \n",
       "std                 10.981640      0.486618      73.392728  \n",
       "min                  0.000000      0.000000       1.020000  \n",
       "25%                  0.000000      0.000000      36.360000  \n",
       "50%                 24.000000      0.000000      54.540000  \n",
       "75%                 24.000000      1.000000      84.530000  \n",
       "max                 36.000000      1.000000    1965.890000  "
      ]
     },
     "execution_count": 6,
     "metadata": {},
     "output_type": "execute_result"
    }
   ],
   "source": [
    "# Summary of the dataset\n",
    "cleaned_churn.describe()"
   ]
  },
  {
   "cell_type": "markdown",
   "metadata": {},
   "source": [
    "**Comment:** The minimum age of account holders is -4; this might be an inaccurate record which should be discarded as outlier (we assume the dataset does not hold those holders which have not been born yet)."
   ]
  },
  {
   "cell_type": "code",
   "execution_count": 7,
   "metadata": {},
   "outputs": [],
   "source": [
    "# drop data rows that have ages are negative or 0\n",
    "cleaned_churn.drop(cleaned_churn.index[cleaned_churn[\"AGE\"] <= 0], inplace= True)"
   ]
  },
  {
   "cell_type": "markdown",
   "metadata": {},
   "source": [
    "### Exploration:"
   ]
  },
  {
   "cell_type": "code",
   "execution_count": 8,
   "metadata": {
    "scrolled": false
   },
   "outputs": [
    {
     "data": {
      "image/png": "[encoded data removed]",
      "text/plain": [
       "<Figure size 1080x576 with 1 Axes>"
      ]
     },
     "metadata": {
      "needs_background": "light"
     },
     "output_type": "display_data"
    }
   ],
   "source": [
    "# plot the distribution of the numerical data\n",
    "plt.subplots(figsize=(15,8))\n",
    "df_plot = cleaned_churn.drop([\"CUST_ID\"], axis=1)\n",
    "plot = sns.boxplot(data=df_plot)\n",
    "plot.set_xticklabels(plot.get_xticklabels(),rotation = 45)\n",
    "plt.show()"
   ]
  },
  {
   "cell_type": "markdown",
   "metadata": {},
   "source": [
    "**Interpretation:** The `MONTHLY_SPEND` varies the most which there are several outliers distributed over the upper whisker. By contrast, the data in the `ACCOUNT_TENURE`, `MONTHS_OF_CONTRACT_REMAINING`, `PREV_CONTRACT_DURATION` fields is distributed around the mean and has no outlier outside  the range."
   ]
  },
  {
   "cell_type": "code",
   "execution_count": 9,
   "metadata": {},
   "outputs": [
    {
     "data": {
      "text/plain": [
       "(46127, 18)"
      ]
     },
     "execution_count": 9,
     "metadata": {},
     "output_type": "execute_result"
    }
   ],
   "source": [
    "# check the size of the dataset again\n",
    "cleaned_churn.shape"
   ]
  },
  {
   "cell_type": "code",
   "execution_count": 10,
   "metadata": {},
   "outputs": [
    {
     "data": {
      "text/plain": [
       "0    28365\n",
       "1    17762\n",
       "Name: CHURN_IND, dtype: int64"
      ]
     },
     "execution_count": 10,
     "metadata": {},
     "output_type": "execute_result"
    }
   ],
   "source": [
    "# counts the value of the classes in the CHURN_IND\n",
    "cleaned_churn[\"CHURN_IND\"].value_counts()"
   ]
  },
  {
   "cell_type": "code",
   "execution_count": 11,
   "metadata": {},
   "outputs": [
    {
     "data": {
      "text/plain": [
       "<AxesSubplot:xlabel='CHURN_IND', ylabel='count'>"
      ]
     },
     "execution_count": 11,
     "metadata": {},
     "output_type": "execute_result"
    },
    {
     "data": {
      "image/png": "[encoded data removed]",
      "text/plain": [
       "<Figure size 432x288 with 1 Axes>"
      ]
     },
     "metadata": {
      "needs_background": "light"
     },
     "output_type": "display_data"
    }
   ],
   "source": [
    "sns.countplot(x=\"CHURN_IND\", data=cleaned_churn, palette=\"mako\")"
   ]
  },
  {
   "cell_type": "markdown",
   "metadata": {},
   "source": [
    "**Comment:** The number of class 0 is considerably larger than the number of class 1. Class 0 accounts for 61.5% of the dataset while the class 1 accounts for 38.5%. Thus, the samples are imbalanced."
   ]
  },
  {
   "cell_type": "markdown",
   "metadata": {},
   "source": [
    "***Compare the average of the numerical fields between two classes in CHURN_IND***"
   ]
  },
  {
   "cell_type": "code",
   "execution_count": 12,
   "metadata": {
    "scrolled": true
   },
   "outputs": [
    {
     "data": {
      "text/html": [
       "<div>\n",
       "<style scoped>\n",
       "    .dataframe tbody tr th:only-of-type {\n",
       "        vertical-align: middle;\n",
       "    }\n",
       "\n",
       "    .dataframe tbody tr th {\n",
       "        vertical-align: top;\n",
       "    }\n",
       "\n",
       "    .dataframe thead th {\n",
       "        text-align: right;\n",
       "    }\n",
       "</style>\n",
       "<table border=\"1\" class=\"dataframe\">\n",
       "  <thead>\n",
       "    <tr style=\"text-align: right;\">\n",
       "      <th></th>\n",
       "      <th>ACCOUNT_TENURE</th>\n",
       "      <th>ACCT_CNT_SERVICES</th>\n",
       "      <th>AGE</th>\n",
       "      <th>SERVICE_TENURE</th>\n",
       "      <th>PLAN_ACCESS_FEE</th>\n",
       "      <th>PLAN_TENURE</th>\n",
       "      <th>MONTHS_OF_CONTRACT_REMAINING</th>\n",
       "      <th>LAST_FX_CONTRACT_DURATION</th>\n",
       "      <th>PREV_CONTRACT_DURATION</th>\n",
       "      <th>MONTHLY_SPEND</th>\n",
       "    </tr>\n",
       "    <tr>\n",
       "      <th>CHURN_IND</th>\n",
       "      <th></th>\n",
       "      <th></th>\n",
       "      <th></th>\n",
       "      <th></th>\n",
       "      <th></th>\n",
       "      <th></th>\n",
       "      <th></th>\n",
       "      <th></th>\n",
       "      <th></th>\n",
       "      <th></th>\n",
       "    </tr>\n",
       "  </thead>\n",
       "  <tbody>\n",
       "    <tr>\n",
       "      <th>0</th>\n",
       "      <td>49.860074</td>\n",
       "      <td>1.595593</td>\n",
       "      <td>42.805288</td>\n",
       "      <td>56.687150</td>\n",
       "      <td>51.965485</td>\n",
       "      <td>9.754909</td>\n",
       "      <td>9.867372</td>\n",
       "      <td>20.774194</td>\n",
       "      <td>15.810048</td>\n",
       "      <td>64.23257</td>\n",
       "    </tr>\n",
       "    <tr>\n",
       "      <th>1</th>\n",
       "      <td>39.541831</td>\n",
       "      <td>1.488684</td>\n",
       "      <td>39.191082</td>\n",
       "      <td>40.266862</td>\n",
       "      <td>50.396277</td>\n",
       "      <td>12.601115</td>\n",
       "      <td>5.628420</td>\n",
       "      <td>19.675487</td>\n",
       "      <td>14.363923</td>\n",
       "      <td>92.63415</td>\n",
       "    </tr>\n",
       "  </tbody>\n",
       "</table>\n",
       "</div>"
      ],
      "text/plain": [
       "           ACCOUNT_TENURE  ACCT_CNT_SERVICES        AGE  SERVICE_TENURE  \\\n",
       "CHURN_IND                                                                 \n",
       "0               49.860074           1.595593  42.805288       56.687150   \n",
       "1               39.541831           1.488684  39.191082       40.266862   \n",
       "\n",
       "           PLAN_ACCESS_FEE  PLAN_TENURE  MONTHS_OF_CONTRACT_REMAINING  \\\n",
       "CHURN_IND                                                               \n",
       "0                51.965485     9.754909                      9.867372   \n",
       "1                50.396277    12.601115                      5.628420   \n",
       "\n",
       "           LAST_FX_CONTRACT_DURATION  PREV_CONTRACT_DURATION  MONTHLY_SPEND  \n",
       "CHURN_IND                                                                    \n",
       "0                          20.774194               15.810048       64.23257  \n",
       "1                          19.675487               14.363923       92.63415  "
      ]
     },
     "execution_count": 12,
     "metadata": {},
     "output_type": "execute_result"
    }
   ],
   "source": [
    "churn_mean= cleaned_churn.groupby(\"CHURN_IND\").mean()\n",
    "churn_mean.drop([\"CUST_ID\"], axis=1, inplace= True)\n",
    "churn_mean"
   ]
  },
  {
   "cell_type": "code",
   "execution_count": 13,
   "metadata": {},
   "outputs": [
    {
     "data": {
      "image/png": "[encoded data removed]",
      "text/plain": [
       "<Figure size 1440x432 with 1 Axes>"
      ]
     },
     "metadata": {
      "needs_background": "light"
     },
     "output_type": "display_data"
    }
   ],
   "source": [
    "# plotting the mean of these fields to compare\n",
    "churn_mean[\"CHURN_IND\"] = churn_mean.index\n",
    "melted_mean = pd.melt(churn_mean,\n",
    "                      id_vars = [\"CHURN_IND\"],\n",
    "                      var_name = \"field\")\n",
    "\n",
    "plt.subplots(figsize=(20,6))\n",
    "melted_plot = sns.barplot(x=\"field\", y=\"value\", hue=\"CHURN_IND\", data=melted_mean, palette=\"bwr_r\")\n",
    "melted_plot.set_xticklabels(melted_plot.get_xticklabels(),rotation = 45)\n",
    "plt.show()"
   ]
  },
  {
   "cell_type": "markdown",
   "metadata": {},
   "source": [
    "**Interpretation:** \n",
    "* `ACCOUNT_TENURE`, `SERVICE_TENURE`: The tenure in months for account and service of customers who still connect to Optus is longer than customers who have disconnected the service.\n",
    "* `ACCT_CNT_SEVICES`: If we round the two means, we could observe that the average number of services are the same in both \"connected\" and \"disconnected\" customers. Thus, this field might not be a good predictor for churn.\n",
    "* `AGE`: Customers who left the service tend to be younger than customers who still use the service.\n",
    "* `PLAN_ACCESS_FEE`: The monthly access fee of \"connected\" customers are higher than the customers who churned.\n",
    "* `PLAN_TENURE`: The tenure in months for plan is longer for churned customers compared to the customers who still connect the service.\n",
    "* `MONTHS_OF_CONTRACT_REMAINING`, `LAST_FX_CONTRACT_DURATION`, `PREV_CONTRACT_DURATION`: customers with class 0 in `CHURN_IND` has higher average than the customers who churned.\n",
    "* `MONTHLY_SPEND`: The monthly service spend of customer who left the service is significantly higher than the customer who still use the service."
   ]
  },
  {
   "cell_type": "markdown",
   "metadata": {},
   "source": [
    "***Selection of categorical variables in the dataset***"
   ]
  },
  {
   "cell_type": "markdown",
   "metadata": {},
   "source": [
    "Since the variables (fields) we use to predict CHURN_IND are not only numerical, some of them are categorical, we should observe to select which categorical variables could be a good predictor for CHURN_IND before turning them into dummy variables (avoid long list of fields)."
   ]
  },
  {
   "cell_type": "markdown",
   "metadata": {},
   "source": [
    "**Assumption:** `STATE`, and `HANDSET_USED_BRAND` might not be strong predictors since they cannot determine whether the customers will churn the service based on which state they live, and the device branch (we cannot predict the \"churned\" customer based on which branch has more Optus users)."
   ]
  },
  {
   "cell_type": "code",
   "execution_count": 14,
   "metadata": {},
   "outputs": [],
   "source": [
    "# turn the selected categorical data into dummies\n",
    "cleaned_churn.drop([\"STATE\", \"HANDSET_USED_BRAND\"], axis= 1, inplace=True)\n",
    "\n",
    "dummy_churn = pd.get_dummies(cleaned_churn, \n",
    "                             columns= [\"CFU\", \"BYO_PLAN_STATUS\", \"CONTRACT_STATUS\", \"COUNTRY_METRO_REGION\"])"
   ]
  },
  {
   "cell_type": "code",
   "execution_count": 15,
   "metadata": {
    "scrolled": true
   },
   "outputs": [
    {
     "data": {
      "text/html": [
       "<div>\n",
       "<style scoped>\n",
       "    .dataframe tbody tr th:only-of-type {\n",
       "        vertical-align: middle;\n",
       "    }\n",
       "\n",
       "    .dataframe tbody tr th {\n",
       "        vertical-align: top;\n",
       "    }\n",
       "\n",
       "    .dataframe thead th {\n",
       "        text-align: right;\n",
       "    }\n",
       "</style>\n",
       "<table border=\"1\" class=\"dataframe\">\n",
       "  <thead>\n",
       "    <tr style=\"text-align: right;\">\n",
       "      <th></th>\n",
       "      <th>CUST_ID</th>\n",
       "      <th>ACCOUNT_TENURE</th>\n",
       "      <th>ACCT_CNT_SERVICES</th>\n",
       "      <th>AGE</th>\n",
       "      <th>SERVICE_TENURE</th>\n",
       "      <th>PLAN_ACCESS_FEE</th>\n",
       "      <th>PLAN_TENURE</th>\n",
       "      <th>MONTHS_OF_CONTRACT_REMAINING</th>\n",
       "      <th>LAST_FX_CONTRACT_DURATION</th>\n",
       "      <th>PREV_CONTRACT_DURATION</th>\n",
       "      <th>...</th>\n",
       "      <th>MONTHLY_SPEND</th>\n",
       "      <th>CFU_CONSUMER</th>\n",
       "      <th>CFU_SMALL BUSINESS</th>\n",
       "      <th>BYO_PLAN_STATUS_BYO</th>\n",
       "      <th>BYO_PLAN_STATUS_NON BYO</th>\n",
       "      <th>CONTRACT_STATUS_NO-CONTRACT</th>\n",
       "      <th>CONTRACT_STATUS_OFF-CONTRACT</th>\n",
       "      <th>CONTRACT_STATUS_ON-CONTRACT</th>\n",
       "      <th>COUNTRY_METRO_REGION_COUNTRY</th>\n",
       "      <th>COUNTRY_METRO_REGION_METRO</th>\n",
       "    </tr>\n",
       "    <tr>\n",
       "      <th>INDEX</th>\n",
       "      <th></th>\n",
       "      <th></th>\n",
       "      <th></th>\n",
       "      <th></th>\n",
       "      <th></th>\n",
       "      <th></th>\n",
       "      <th></th>\n",
       "      <th></th>\n",
       "      <th></th>\n",
       "      <th></th>\n",
       "      <th></th>\n",
       "      <th></th>\n",
       "      <th></th>\n",
       "      <th></th>\n",
       "      <th></th>\n",
       "      <th></th>\n",
       "      <th></th>\n",
       "      <th></th>\n",
       "      <th></th>\n",
       "      <th></th>\n",
       "      <th></th>\n",
       "    </tr>\n",
       "  </thead>\n",
       "  <tbody>\n",
       "    <tr>\n",
       "      <th>1</th>\n",
       "      <td>1</td>\n",
       "      <td>46</td>\n",
       "      <td>1</td>\n",
       "      <td>30.0</td>\n",
       "      <td>46</td>\n",
       "      <td>54.54</td>\n",
       "      <td>15</td>\n",
       "      <td>0</td>\n",
       "      <td>24</td>\n",
       "      <td>24</td>\n",
       "      <td>...</td>\n",
       "      <td>61.40</td>\n",
       "      <td>1</td>\n",
       "      <td>0</td>\n",
       "      <td>0</td>\n",
       "      <td>1</td>\n",
       "      <td>0</td>\n",
       "      <td>1</td>\n",
       "      <td>0</td>\n",
       "      <td>1</td>\n",
       "      <td>0</td>\n",
       "    </tr>\n",
       "    <tr>\n",
       "      <th>2</th>\n",
       "      <td>2</td>\n",
       "      <td>60</td>\n",
       "      <td>3</td>\n",
       "      <td>55.0</td>\n",
       "      <td>59</td>\n",
       "      <td>54.54</td>\n",
       "      <td>5</td>\n",
       "      <td>0</td>\n",
       "      <td>24</td>\n",
       "      <td>24</td>\n",
       "      <td>...</td>\n",
       "      <td>54.54</td>\n",
       "      <td>1</td>\n",
       "      <td>0</td>\n",
       "      <td>0</td>\n",
       "      <td>1</td>\n",
       "      <td>0</td>\n",
       "      <td>1</td>\n",
       "      <td>0</td>\n",
       "      <td>0</td>\n",
       "      <td>1</td>\n",
       "    </tr>\n",
       "  </tbody>\n",
       "</table>\n",
       "<p>2 rows × 21 columns</p>\n",
       "</div>"
      ],
      "text/plain": [
       "       CUST_ID  ACCOUNT_TENURE  ACCT_CNT_SERVICES   AGE  SERVICE_TENURE  \\\n",
       "INDEX                                                                     \n",
       "1            1              46                  1  30.0              46   \n",
       "2            2              60                  3  55.0              59   \n",
       "\n",
       "       PLAN_ACCESS_FEE  PLAN_TENURE  MONTHS_OF_CONTRACT_REMAINING  \\\n",
       "INDEX                                                               \n",
       "1                54.54           15                             0   \n",
       "2                54.54            5                             0   \n",
       "\n",
       "       LAST_FX_CONTRACT_DURATION  PREV_CONTRACT_DURATION  ...  MONTHLY_SPEND  \\\n",
       "INDEX                                                     ...                  \n",
       "1                             24                      24  ...          61.40   \n",
       "2                             24                      24  ...          54.54   \n",
       "\n",
       "       CFU_CONSUMER  CFU_SMALL BUSINESS  BYO_PLAN_STATUS_BYO  \\\n",
       "INDEX                                                          \n",
       "1                 1                   0                    0   \n",
       "2                 1                   0                    0   \n",
       "\n",
       "       BYO_PLAN_STATUS_NON BYO  CONTRACT_STATUS_NO-CONTRACT  \\\n",
       "INDEX                                                         \n",
       "1                            1                            0   \n",
       "2                            1                            0   \n",
       "\n",
       "       CONTRACT_STATUS_OFF-CONTRACT  CONTRACT_STATUS_ON-CONTRACT  \\\n",
       "INDEX                                                              \n",
       "1                                 1                            0   \n",
       "2                                 1                            0   \n",
       "\n",
       "       COUNTRY_METRO_REGION_COUNTRY  COUNTRY_METRO_REGION_METRO  \n",
       "INDEX                                                            \n",
       "1                                 1                           0  \n",
       "2                                 0                           1  \n",
       "\n",
       "[2 rows x 21 columns]"
      ]
     },
     "execution_count": 15,
     "metadata": {},
     "output_type": "execute_result"
    }
   ],
   "source": [
    "dummy_churn.head(2)"
   ]
  },
  {
   "cell_type": "code",
   "execution_count": 16,
   "metadata": {},
   "outputs": [
    {
     "data": {
      "text/plain": [
       "(46127, 21)"
      ]
     },
     "execution_count": 16,
     "metadata": {},
     "output_type": "execute_result"
    }
   ],
   "source": [
    "# check the shape of the dummy dataframe\n",
    "dummy_churn.shape"
   ]
  },
  {
   "cell_type": "markdown",
   "metadata": {},
   "source": [
    "## Model of Churn Prediction based on Numerical Fields:"
   ]
  },
  {
   "cell_type": "markdown",
   "metadata": {},
   "source": [
    "### Model Building:"
   ]
  },
  {
   "cell_type": "markdown",
   "metadata": {},
   "source": [
    "Since the logistic regression model could only take numerical input. Therefore, we first try to predict the churn based on all the numerical fields in the dataset."
   ]
  },
  {
   "cell_type": "code",
   "execution_count": 17,
   "metadata": {
    "scrolled": true
   },
   "outputs": [
    {
     "name": "stdout",
     "output_type": "stream",
     "text": [
      "(36901, 16)\n",
      "(9226, 16)\n"
     ]
    }
   ],
   "source": [
    "# Split data into training(80%) and testing data (20%)\n",
    "num_train, num_test = train_test_split(cleaned_churn, test_size=0.2, random_state=142)\n",
    "print(num_train.shape)\n",
    "print(num_test.shape)"
   ]
  },
  {
   "cell_type": "code",
   "execution_count": 18,
   "metadata": {},
   "outputs": [],
   "source": [
    "X_num_train = num_train.drop([\"CHURN_IND\", \"CUST_ID\", \"CFU\", \"BYO_PLAN_STATUS\", \n",
    "                              \"CONTRACT_STATUS\",\"COUNTRY_METRO_REGION\"], axis=1)\n",
    "y_num_train = num_train[\"CHURN_IND\"]\n",
    "X_num_test = num_test.drop([\"CHURN_IND\", \"CUST_ID\", \"CFU\", \"BYO_PLAN_STATUS\", \n",
    "                            \"CONTRACT_STATUS\", \"COUNTRY_METRO_REGION\"], axis=1)\n",
    "y_num_test = num_test[\"CHURN_IND\"]"
   ]
  },
  {
   "cell_type": "markdown",
   "metadata": {},
   "source": [
    "We input the independent and the dependent values to predict into the train and test variables. However, for the independent values (i.e. X_train, X_test), we do not include CUST_ID as it is just an identifier for a customer, which does not help to predict the the churn."
   ]
  },
  {
   "cell_type": "code",
   "execution_count": 19,
   "metadata": {},
   "outputs": [
    {
     "data": {
      "text/plain": [
       "LogisticRegression()"
      ]
     },
     "execution_count": 19,
     "metadata": {},
     "output_type": "execute_result"
    }
   ],
   "source": [
    "# fit the model\n",
    "reg = LogisticRegression()\n",
    "reg.fit(X_num_train, y_num_train)"
   ]
  },
  {
   "cell_type": "code",
   "execution_count": 20,
   "metadata": {},
   "outputs": [],
   "source": [
    "# predict train and test sets\n",
    "num_train_preds = reg.predict(X_num_train)\n",
    "num_test_preds = reg.predict(X_num_test)"
   ]
  },
  {
   "cell_type": "markdown",
   "metadata": {},
   "source": [
    "### Evaluation:"
   ]
  },
  {
   "cell_type": "code",
   "execution_count": 21,
   "metadata": {},
   "outputs": [
    {
     "name": "stdout",
     "output_type": "stream",
     "text": [
      "Train accuracy (numerical):\n",
      "0.7110647407929325\n",
      "Test accuracy (numerical):\n",
      "0.7003034901365706\n"
     ]
    }
   ],
   "source": [
    "# check the accuracy of the model\n",
    "print(\"Train accuracy (numerical):\")\n",
    "print(accuracy_score(y_num_train, num_train_preds))\n",
    "\n",
    "print(\"Test accuracy (numerical):\")\n",
    "print(accuracy_score(y_num_test, num_test_preds))"
   ]
  },
  {
   "cell_type": "markdown",
   "metadata": {},
   "source": [
    "**Comment:** The accuracy score at around 0.7 (approximately 70% of the data was predicted correctly) indicates that the model was built not so well (as there is a considerable gap between 0.7 and 1). Additionally, there is a small gap of the accuracy scores of the train set and the test set. Thus, the model is not overfitting."
   ]
  },
  {
   "cell_type": "code",
   "execution_count": 22,
   "metadata": {},
   "outputs": [
    {
     "data": {
      "text/plain": [
       "array([[4580, 1031],\n",
       "       [1734, 1881]], dtype=int64)"
      ]
     },
     "execution_count": 22,
     "metadata": {},
     "output_type": "execute_result"
    }
   ],
   "source": [
    "# check the confusion matrix of the model\n",
    "confusion_matrix(y_num_test, num_test_preds)"
   ]
  },
  {
   "cell_type": "code",
   "execution_count": 23,
   "metadata": {},
   "outputs": [
    {
     "data": {
      "text/plain": [
       "<sklearn.metrics._plot.confusion_matrix.ConfusionMatrixDisplay at 0x2222d6ee760>"
      ]
     },
     "execution_count": 23,
     "metadata": {},
     "output_type": "execute_result"
    },
    {
     "data": {
      "image/png": "[encoded data removed]",
      "text/plain": [
       "<Figure size 432x288 with 2 Axes>"
      ]
     },
     "metadata": {
      "needs_background": "light"
     },
     "output_type": "display_data"
    }
   ],
   "source": [
    "# plot the confusion matrix of the model\n",
    "plot_confusion_matrix(reg, X_num_test, y_num_test)"
   ]
  },
  {
   "cell_type": "markdown",
   "metadata": {},
   "source": [
    "**Interpretation:** There are 4580 correct predictions of the class 0 for churn; however, the false predictions of the class 0 is also significantly high which is up to 1031 reports. The number of the accurate class 1 values for churn is around 1881, while the false positive (inaccurate class 1 prediction in this case) is up to 1734 reports which is nearly the same as the true positive. Therefore, this model might not predict the class 1 for the churn precisely since the high false positive value, which might mislead the process of predicting the number of customers who might disconnect the service."
   ]
  },
  {
   "cell_type": "markdown",
   "metadata": {},
   "source": [
    "### Feature Selection:"
   ]
  },
  {
   "cell_type": "markdown",
   "metadata": {},
   "source": [
    "We will select the number of features from one to the total columns (fields) of the train set, then we calculate the accuracy score for each of the choices of features. As such, we could find the highest accuracy score to determine how many features could build the better model than the original one."
   ]
  },
  {
   "cell_type": "code",
   "execution_count": 24,
   "metadata": {
    "scrolled": true
   },
   "outputs": [
    {
     "data": {
      "text/plain": [
       "(36901, 10)"
      ]
     },
     "execution_count": 24,
     "metadata": {},
     "output_type": "execute_result"
    }
   ],
   "source": [
    "# check the column in the train set\n",
    "X_num_train.shape"
   ]
  },
  {
   "cell_type": "code",
   "execution_count": 25,
   "metadata": {},
   "outputs": [
    {
     "name": "stdout",
     "output_type": "stream",
     "text": [
      "The accuracy score of the model (numerical):\n",
      "- with selection of 1 features:  0.6375460654671581\n",
      "- with selection of 2 features:  0.6546715803164969\n",
      "- with selection of 3 features:  0.6553219163234337\n",
      "- with selection of 4 features:  0.658031649685671\n",
      "- with selection of 5 features:  0.6999783221331021\n",
      "- with selection of 6 features:  0.6978105354433124\n",
      "- with selection of 7 features:  0.6985692607847388\n",
      "- with selection of 8 features:  0.6969434207673965\n",
      "- with selection of 9 features:  0.6969434207673965\n",
      "- with selection of 10 features:  0.7003034901365706\n"
     ]
    }
   ],
   "source": [
    "# list for containing all the accuracy score\n",
    "test_acc_scores = []\n",
    "\n",
    "print(\"The accuracy score of the model (numerical):\")\n",
    "for i in range(1, 11):\n",
    "    # build and fit the model\n",
    "    lr = LogisticRegression(max_iter = 1000)\n",
    "    rfe = RFE(estimator = lr, n_features_to_select = i, step = 1)\n",
    "    rfe.fit(X_num_train, y_num_train)\n",
    "    # predict based on test set\n",
    "    preds = rfe.predict(X_num_test)\n",
    "    # calculate accuracy score and append to the list\n",
    "    acc_score = accuracy_score(y_num_test, preds)\n",
    "    test_acc_scores.append(acc_score)\n",
    "    # print the number of features with the accuracy score\n",
    "    print(\"- with selection of\", i, \"features: \", acc_score)"
   ]
  },
  {
   "cell_type": "code",
   "execution_count": 26,
   "metadata": {},
   "outputs": [
    {
     "data": {
      "image/png": "[encoded data removed]",
      "text/plain": [
       "<Figure size 864x360 with 1 Axes>"
      ]
     },
     "metadata": {
      "needs_background": "light"
     },
     "output_type": "display_data"
    }
   ],
   "source": [
    "# Plotting the accuracy number\n",
    "plt.figure(figsize=(12,5))\n",
    "plotting = plt.plot(range(1, X_num_train.shape[1]+1), test_acc_scores, color= \"tomato\")\n",
    "plt.xlabel(\"Number of Features\")\n",
    "plt.ylabel(\"Accuracy\")\n",
    "plt.title(\"Accuracy at Each Number of Features\")\n",
    "plt.xticks(np.arange(1, 11, step=1))\n",
    "plt.show()"
   ]
  },
  {
   "cell_type": "markdown",
   "metadata": {},
   "source": [
    "**Interpretation:** We could see the accuracy score of five-features model is nearly as high as (not much different from) the ten-features model (0.69998 compared to 0.70030). Therefore, we could build this \"numerical only\" model based on the five most important features instead of choosing all of the ten features to build."
   ]
  },
  {
   "cell_type": "code",
   "execution_count": 27,
   "metadata": {},
   "outputs": [
    {
     "data": {
      "text/plain": [
       "RFE(estimator=LogisticRegression(max_iter=1000), n_features_to_select=5)"
      ]
     },
     "execution_count": 27,
     "metadata": {},
     "output_type": "execute_result"
    }
   ],
   "source": [
    "# re-build the model by selecting five features\n",
    "five_lr = LogisticRegression(max_iter = 1000)\n",
    "five_rfe = RFE(estimator = five_lr, n_features_to_select = 5, step = 1)\n",
    "five_rfe.fit(X_num_train, y_num_train)"
   ]
  },
  {
   "cell_type": "code",
   "execution_count": 28,
   "metadata": {},
   "outputs": [
    {
     "data": {
      "text/plain": [
       "Index(['ACCOUNT_TENURE', 'AGE', 'MONTHS_OF_CONTRACT_REMAINING',\n",
       "       'LAST_FX_CONTRACT_DURATION', 'MONTHLY_SPEND'],\n",
       "      dtype='object')"
      ]
     },
     "execution_count": 28,
     "metadata": {},
     "output_type": "execute_result"
    }
   ],
   "source": [
    "# check which five features have been selected\n",
    "X_num_train.columns[five_rfe.support_]"
   ]
  },
  {
   "cell_type": "markdown",
   "metadata": {},
   "source": [
    "**Comment:** the five features could be selected to build a better model include `ACCOUNT_TENURE`, `AGE`, `MONTHS_OF_CONTRACT_REMAINING`,\n",
    "       `LAST_FX_CONTRACT_DURATION`, `MONTHLY_SPEND`."
   ]
  },
  {
   "cell_type": "markdown",
   "metadata": {},
   "source": [
    "## Model of Churn Prediction based on Selected Fields:"
   ]
  },
  {
   "cell_type": "markdown",
   "metadata": {},
   "source": [
    "This model will be different from the previous model, which will apply both numerical and categorical fields to predict the churn."
   ]
  },
  {
   "cell_type": "markdown",
   "metadata": {},
   "source": [
    "### Model Building:"
   ]
  },
  {
   "cell_type": "code",
   "execution_count": 29,
   "metadata": {},
   "outputs": [
    {
     "name": "stdout",
     "output_type": "stream",
     "text": [
      "(36901, 21)\n",
      "(9226, 21)\n"
     ]
    }
   ],
   "source": [
    "# Split data into training(80%) and testing data (20%)\n",
    "train, test = train_test_split(dummy_churn, test_size=0.2, random_state=142)\n",
    "print(train.shape)\n",
    "print(test.shape)"
   ]
  },
  {
   "cell_type": "code",
   "execution_count": 30,
   "metadata": {},
   "outputs": [],
   "source": [
    "X_train = train.drop([\"CHURN_IND\", \"CUST_ID\"], axis=1)\n",
    "y_train = train[\"CHURN_IND\"]\n",
    "X_test = test.drop([\"CHURN_IND\", \"CUST_ID\"], axis=1)\n",
    "y_test = test[\"CHURN_IND\"]"
   ]
  },
  {
   "cell_type": "code",
   "execution_count": 31,
   "metadata": {},
   "outputs": [
    {
     "data": {
      "text/plain": [
       "LogisticRegression(max_iter=1000)"
      ]
     },
     "execution_count": 31,
     "metadata": {},
     "output_type": "execute_result"
    }
   ],
   "source": [
    "# fit the model\n",
    "reg_model = LogisticRegression(max_iter=1000)\n",
    "reg_model.fit(X_train, y_train)"
   ]
  },
  {
   "cell_type": "code",
   "execution_count": 32,
   "metadata": {},
   "outputs": [],
   "source": [
    "# predict train and test sets\n",
    "train_preds = reg_model.predict(X_train)\n",
    "test_preds = reg_model.predict(X_test)"
   ]
  },
  {
   "cell_type": "markdown",
   "metadata": {},
   "source": [
    "### Evaluation:"
   ]
  },
  {
   "cell_type": "code",
   "execution_count": 33,
   "metadata": {
    "scrolled": true
   },
   "outputs": [
    {
     "name": "stdout",
     "output_type": "stream",
     "text": [
      "Train accuracy:\n",
      "0.7254003956532343\n",
      "Test accuracy:\n",
      "0.7161283329720356\n"
     ]
    }
   ],
   "source": [
    "# check the accuracy of the model\n",
    "print(\"Train accuracy:\")\n",
    "print(accuracy_score(y_train, train_preds))\n",
    "\n",
    "print(\"Test accuracy:\")\n",
    "print(accuracy_score(y_test, test_preds))"
   ]
  },
  {
   "cell_type": "markdown",
   "metadata": {},
   "source": [
    "**Comment:** The accuracy score of the train and test sets increase slightly compared to the previous model, which is around 72% accuracy in the test set and 73% accuracy in the train set (previously was around 70% and 71%). However, the model seems not improve too much since its accuracy scores are still not closed to 1. Additionally, there is a small gap of the accuracy scores of the train set and the test set. Thus, the model is not overfitting."
   ]
  },
  {
   "cell_type": "code",
   "execution_count": 34,
   "metadata": {},
   "outputs": [
    {
     "data": {
      "text/plain": [
       "array([[4659,  952],\n",
       "       [1667, 1948]], dtype=int64)"
      ]
     },
     "execution_count": 34,
     "metadata": {},
     "output_type": "execute_result"
    }
   ],
   "source": [
    "# check the confusion matrix of the model\n",
    "confusion_matrix(y_test, test_preds)"
   ]
  },
  {
   "cell_type": "code",
   "execution_count": 35,
   "metadata": {
    "scrolled": true
   },
   "outputs": [
    {
     "data": {
      "text/plain": [
       "<sklearn.metrics._plot.confusion_matrix.ConfusionMatrixDisplay at 0x22230f73e50>"
      ]
     },
     "execution_count": 35,
     "metadata": {},
     "output_type": "execute_result"
    },
    {
     "data": {
      "image/png": "[encoded data removed]",
      "text/plain": [
       "<Figure size 432x288 with 2 Axes>"
      ]
     },
     "metadata": {
      "needs_background": "light"
     },
     "output_type": "display_data"
    }
   ],
   "source": [
    "# plot the confusion matrix of the model\n",
    "plot_confusion_matrix(reg_model, X_test, y_test)"
   ]
  },
  {
   "cell_type": "markdown",
   "metadata": {},
   "source": [
    "**Interpretation:** There are 4659 correct predictions of the class 0 for churn;the false predictions of the class 0 is 952. The number of the accurate class 1 values for churn is 1948, while the false positive (inaccurate class 1 prediction in this case) is 1667. As such, we could see the correct prediction have been improved (4659+1948 true case (current) compared to 4580+1881 true case (previous)), and the false also decrease. However, this model might still not predict the class 1 for the churn precisely since the false positive value is still high."
   ]
  },
  {
   "cell_type": "markdown",
   "metadata": {},
   "source": [
    "### Feature Selection:"
   ]
  },
  {
   "cell_type": "code",
   "execution_count": 36,
   "metadata": {
    "scrolled": true
   },
   "outputs": [
    {
     "data": {
      "text/plain": [
       "(36901, 19)"
      ]
     },
     "execution_count": 36,
     "metadata": {},
     "output_type": "execute_result"
    }
   ],
   "source": [
    "# check the column in the train set\n",
    "X_train.shape"
   ]
  },
  {
   "cell_type": "code",
   "execution_count": 37,
   "metadata": {
    "scrolled": true
   },
   "outputs": [
    {
     "name": "stdout",
     "output_type": "stream",
     "text": [
      "The accuracy score of the model:\n",
      "- with selection of 1 features:  0.6375460654671581\n",
      "- with selection of 2 features:  0.6552135269889443\n",
      "- with selection of 3 features:  0.6519618469542597\n",
      "- with selection of 4 features:  0.6519618469542597\n",
      "- with selection of 5 features:  0.6519618469542597\n",
      "- with selection of 6 features:  0.6536960763060915\n",
      "- with selection of 7 features:  0.6536960763060915\n",
      "- with selection of 8 features:  0.6536960763060915\n",
      "- with selection of 9 features:  0.6547799696509864\n",
      "- with selection of 10 features:  0.6708215911554303\n",
      "- with selection of 11 features:  0.6736397138521569\n",
      "- with selection of 12 features:  0.6723390418382831\n",
      "- with selection of 13 features:  0.7108172555820508\n",
      "- with selection of 14 features:  0.7115759809234772\n",
      "- with selection of 15 features:  0.7134185996097984\n",
      "- with selection of 16 features:  0.7139605462822458\n",
      "- with selection of 17 features:  0.716236722306525\n",
      "- with selection of 18 features:  0.7163451116410146\n",
      "- with selection of 19 features:  0.7161283329720356\n"
     ]
    }
   ],
   "source": [
    "# list for containing all the accuracy score\n",
    "acc_scores = []\n",
    "\n",
    "print(\"The accuracy score of the model:\")\n",
    "for i in range(1, 20):\n",
    "    # build and fit the model\n",
    "    new_lr = LogisticRegression(max_iter = 1000)\n",
    "    new_rfe = RFE(estimator = new_lr, n_features_to_select = i, step = 1)\n",
    "    new_rfe.fit(X_train, y_train)\n",
    "    # predict based on test set\n",
    "    new_preds = new_rfe.predict(X_test)\n",
    "    # calculate accuracy score and append to the list\n",
    "    new_acc_score = accuracy_score(y_test, new_preds)\n",
    "    acc_scores.append(new_acc_score)\n",
    "    # print the number of features with the accuracy score\n",
    "    print(\"- with selection of\", i, \"features: \", new_acc_score)"
   ]
  },
  {
   "cell_type": "code",
   "execution_count": 38,
   "metadata": {
    "scrolled": true
   },
   "outputs": [
    {
     "data": {
      "image/png": "[encoded data removed]",
      "text/plain": [
       "<Figure size 720x360 with 1 Axes>"
      ]
     },
     "metadata": {
      "needs_background": "light"
     },
     "output_type": "display_data"
    }
   ],
   "source": [
    "# Plotting the accuracy number\n",
    "plt.figure(figsize=(10,5))\n",
    "plt.plot(range(1, X_train.shape[1]+1), acc_scores, color= \"springgreen\")\n",
    "plt.xlabel(\"Number of Features\")\n",
    "plt.ylabel(\"Accuracy\")\n",
    "plt.title(\"Accuracy at Each Number of Features\")\n",
    "plt.xticks(np.arange(1, 20, step=1))\n",
    "plt.show()"
   ]
  },
  {
   "cell_type": "markdown",
   "metadata": {},
   "source": [
    "**Interpretation:** We could see the accuracy score of seventeen-features model is slightly higher than (not much different from) the nineteen-features model (0.7162 compared to 0.7161). Therefore, we could build the model based on the seventeen most important features instead of choosing all of the nineteen features to build."
   ]
  },
  {
   "cell_type": "code",
   "execution_count": 39,
   "metadata": {
    "scrolled": true
   },
   "outputs": [
    {
     "data": {
      "text/plain": [
       "RFE(estimator=LogisticRegression(max_iter=1000), n_features_to_select=17)"
      ]
     },
     "execution_count": 39,
     "metadata": {},
     "output_type": "execute_result"
    }
   ],
   "source": [
    "# re-build the model by selecting 17 features\n",
    "svt_lr = LogisticRegression(max_iter = 1000)\n",
    "svt_rfe = RFE(estimator = svt_lr, n_features_to_select = 17, step = 1)\n",
    "svt_rfe.fit(X_train, y_train)"
   ]
  },
  {
   "cell_type": "code",
   "execution_count": 40,
   "metadata": {},
   "outputs": [
    {
     "data": {
      "text/plain": [
       "Index(['ACCOUNT_TENURE', 'AGE', 'SERVICE_TENURE', 'PLAN_ACCESS_FEE',\n",
       "       'PLAN_TENURE', 'MONTHS_OF_CONTRACT_REMAINING',\n",
       "       'LAST_FX_CONTRACT_DURATION', 'PREV_CONTRACT_DURATION', 'MONTHLY_SPEND',\n",
       "       'CFU_CONSUMER', 'CFU_SMALL BUSINESS', 'BYO_PLAN_STATUS_BYO',\n",
       "       'BYO_PLAN_STATUS_NON BYO', 'CONTRACT_STATUS_NO-CONTRACT',\n",
       "       'CONTRACT_STATUS_OFF-CONTRACT', 'CONTRACT_STATUS_ON-CONTRACT',\n",
       "       'COUNTRY_METRO_REGION_COUNTRY'],\n",
       "      dtype='object')"
      ]
     },
     "execution_count": 40,
     "metadata": {},
     "output_type": "execute_result"
    }
   ],
   "source": [
    "# check which 17 features have been selected\n",
    "X_train.columns[svt_rfe.support_]"
   ]
  },
  {
   "cell_type": "markdown",
   "metadata": {},
   "source": [
    "**Comment:** The two features which have not been selected are `ACCT_CNT_SERVICES` and `COUNTRY_METRO_REGION_METRO` (`COUNTRY_METRO_REGION`). Since `COUNTRY_METRO_REGION_COUNTRY` is included in the model, we will try to exclude this feature (since the `METRO` is not included, and they are actually in the same field) and re-check the accuracy score for the model with 16 features only."
   ]
  },
  {
   "cell_type": "code",
   "execution_count": 41,
   "metadata": {},
   "outputs": [
    {
     "name": "stdout",
     "output_type": "stream",
     "text": [
      "(36901, 16)\n"
     ]
    },
    {
     "data": {
      "text/plain": [
       "LogisticRegression(max_iter=1000)"
      ]
     },
     "execution_count": 41,
     "metadata": {},
     "output_type": "execute_result"
    }
   ],
   "source": [
    "# try the temporary model by selecting 16 features\n",
    "temp_lr = LogisticRegression(max_iter = 1000)\n",
    "temp_train = X_train.drop([\"COUNTRY_METRO_REGION_COUNTRY\", \"ACCT_CNT_SERVICES\",\n",
    "                           \"COUNTRY_METRO_REGION_METRO\"], axis=1)\n",
    "temp_test = X_test.drop([\"COUNTRY_METRO_REGION_COUNTRY\", \"ACCT_CNT_SERVICES\",\n",
    "                           \"COUNTRY_METRO_REGION_METRO\"], axis=1)\n",
    "print(temp_train.shape)\n",
    "temp_lr.fit(temp_train, y_train)"
   ]
  },
  {
   "cell_type": "code",
   "execution_count": 42,
   "metadata": {},
   "outputs": [],
   "source": [
    "# fit in input of train and test set\n",
    "temp_train_preds = temp_lr.predict(temp_train)\n",
    "temp_test_preds = temp_lr.predict(temp_test)"
   ]
  },
  {
   "cell_type": "code",
   "execution_count": 43,
   "metadata": {},
   "outputs": [
    {
     "name": "stdout",
     "output_type": "stream",
     "text": [
      "Temporary train accuracy:\n",
      "0.7267282729465326\n",
      "Temporary test accuracy:\n",
      "0.7149360502926512\n"
     ]
    }
   ],
   "source": [
    "# check the accuracy of the model\n",
    "print(\"Temporary train accuracy:\")\n",
    "print(accuracy_score(y_train, temp_train_preds))\n",
    "\n",
    "print(\"Temporary test accuracy:\")\n",
    "print(accuracy_score(y_test, temp_test_preds))"
   ]
  },
  {
   "cell_type": "markdown",
   "metadata": {},
   "source": [
    "**Comment:** The accuracy score is not much different from the model with 17 features (0.7149 v.s. 0.7162), and higher than the model with five features (0.71494 v.s. 0.69998). Thus, we could choose this 16 features model as the best model for this dataset. The accuracy scores for train and test sets indicate the model is not overfitting."
   ]
  },
  {
   "cell_type": "markdown",
   "metadata": {},
   "source": [
    "**Final chosen fields (not in dummy):** `ACCOUNT_TENURE`, `AGE`, `SERVICE_TENURE`, `PLAN_ACCESS_FEE`, `PLAN_TENURE`, `MONTHS_OF_CONTRACT_REMAINING`,`LAST_FX_CONTRACT_DURATION`, `PREV_CONTRACT_DURATION`,`MONTHLY_SPEND`, `CFU`, `BYO_PLAN_STATUS`, `CONTRACT_STATUS`."
   ]
  }
 ],
 "metadata": {
  "kernelspec": {
   "display_name": "Python 3",
   "language": "python",
   "name": "python3"
  },
  "language_info": {
   "codemirror_mode": {
    "name": "ipython",
    "version": 3
   },
   "file_extension": ".py",
   "mimetype": "text/x-python",
   "name": "python",
   "nbconvert_exporter": "python",
   "pygments_lexer": "ipython3",
   "version": "3.8.8"
  }
 },
 "nbformat": 4,
 "nbformat_minor": 4
}
